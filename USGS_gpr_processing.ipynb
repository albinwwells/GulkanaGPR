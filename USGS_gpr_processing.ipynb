{
 "cells": [
  {
   "cell_type": "markdown",
   "id": "a40c77d7",
   "metadata": {},
   "source": [
    "# Processing GPR Data"
   ]
  },
  {
   "cell_type": "markdown",
   "id": "2e4f7d9c",
   "metadata": {},
   "source": [
    "Albin Wells -- June 2022\n",
    "\n",
    "Code for processing GPR data and selecting the reflector signal\n",
    "\n",
    "Pseudocode:\n",
    "1. Define filepath and constant/given parameters\n",
    "2. Extract waveform data and geolocations. Remove / consolidate waveforms in the same location\n",
    "3. Preprocessing: \n",
    "    - Identify time_zero as airwave onset and clip to time_zero\n",
    "    - Remove DC component of waveform\n",
    "    - Take transpose of waveform\n",
    "    - Crop waveform (size reduction)\n",
    "    - Rubberbanding\n",
    "4. Plot radargram with interction to select radargram return signals\n",
    "5. Interpolate selections to discrete radar waveforms, and estimate twtt, bed depth, etc\n",
    "6. Create GUI to look at each waveform independently and modify time_zero and reflector signal selections\n",
    "7. Replot radargram with final selections. Recalculate twtt, bed depth, etc. Save these files\n"
   ]
  },
  {
   "cell_type": "markdown",
   "id": "e1e412c8",
   "metadata": {},
   "source": [
    "A note on selecting waveforms:\n",
    "\n",
    "- In the event of multiple waveforms, choose the one with the larger peak (ex: cs21)\n",
    "- If peaks are the same, choose the first return\n",
    "- In cases where signals are particularly unclear, we select a return that is consistent with earlier/later selections\n"
   ]
  },
  {
   "cell_type": "code",
   "execution_count": 1,
   "id": "bc6d860b",
   "metadata": {},
   "outputs": [],
   "source": [
    "import os\n",
    "import fnmatch\n",
    "import math\n",
    "import numpy as np\n",
    "import pandas as pd\n",
    "import itertools\n",
    "from matplotlib import pyplot as plt\n",
    "import matplotlib.image as mpimg\n",
    "from scipy.interpolate import griddata\n",
    "from scipy.signal import butter, filtfilt, cheby1, cheby2, bessel, ellip, sosfiltfilt"
   ]
  },
  {
   "cell_type": "markdown",
   "id": "05baac44",
   "metadata": {},
   "source": [
    "# Read in GPR Data\n",
    "\n",
    "The filepath 'gpr_fp' should be the desired folder storing the text files with the GPR data for each transect\n",
    "\n",
    "Repeat this process for each transect"
   ]
  },
  {
   "cell_type": "code",
   "execution_count": 2,
   "id": "c508654d",
   "metadata": {},
   "outputs": [
    {
     "name": "stdout",
     "output_type": "stream",
     "text": [
      "IS THIS RADAR STUDY IS 5MHZ -- 10m half length\n"
     ]
    }
   ],
   "source": [
    "# Enter the filepath\n",
    "gpr_fp = 'gulkana_transects/'\n",
    "\n",
    "vel_ice = 158e6 # 150e6 for temperate ice and 167e6 for cold ice; best to estimate based on CMP\n",
    "antenna_height = 10.0 # length of antennas\n",
    "antenna_sepn = 6.1 # antenna separation in m\n",
    "print('IS THIS RADAR STUDY IS 5MHZ -- 10m half length')\n",
    "# wetness in ice increases dielectric constant/relative permittivity, which decreases radar velocity \n",
    "# and thus decreases depth we can reach with GPR signal"
   ]
  },
  {
   "cell_type": "code",
   "execution_count": 4,
   "id": "e7da29a9",
   "metadata": {},
   "outputs": [],
   "source": [
    "def read_point(file):\n",
    "    fid=open(file,'r')\n",
    "    for head in range(2):\n",
    "        fid.readline()\n",
    "    lat = float(fid.readline())\n",
    "    lon = float(fid.readline())\n",
    "    elev = float(fid.readline())\n",
    "    dt = float(fid.readline())\n",
    "    wv = np.fromfile(fid, sep='\\t')\n",
    "    fid.close()\n",
    "    return wv, lat, lon, elev, dt"
   ]
  },
  {
   "cell_type": "code",
   "execution_count": 5,
   "id": "b5535a81",
   "metadata": {},
   "outputs": [
    {
     "name": "stdout",
     "output_type": "stream",
     "text": [
      "We got rid of the first 1 file(s) \n",
      "\n",
      "['wv2.txt', 'wv3.txt', 'wv4.txt', 'wv5.txt', 'wv6.txt', 'wv7.txt']\n"
     ]
    }
   ],
   "source": [
    "# Get GPR file names\n",
    "gpr_file_numbers = []\n",
    "for i in os.listdir(gpr_fp):\n",
    "    if i.endswith('.txt'):\n",
    "        file_number = i.split('wv')[1].split('.txt')[0]\n",
    "        gpr_file_numbers.append(int(file_number))\n",
    "gpr_file_numbers = sorted(gpr_file_numbers)\n",
    "\n",
    "gpr_fns = ['wv' + str(x) + '.txt' for x in gpr_file_numbers]\n",
    "\n",
    "# Cut out the first few\n",
    "cut_no = 1\n",
    "gpr_fns = gpr_fns[cut_no:]\n",
    "total_file_no = gpr_fns[-1][2:-4]\n",
    "print('We got rid of the first ' + str(cut_no) + ' file(s) \\n')\n",
    "print(gpr_fns)\n"
   ]
  },
  {
   "cell_type": "markdown",
   "id": "a5080e69",
   "metadata": {},
   "source": [
    "Also read in the GPR coordinate locations. Create vectors of the distance along the transect at each point and the total distance of each transect"
   ]
  },
  {
   "cell_type": "code",
   "execution_count": 6,
   "id": "ebd5495d",
   "metadata": {},
   "outputs": [
    {
     "name": "stdout",
     "output_type": "stream",
     "text": [
      "[0. 0. 0. 0. 4. 4.]\n"
     ]
    }
   ],
   "source": [
    "# get the associated file with geocordinates. import this as a dataframe\n",
    "# then, determine the total distance (total_cs_dist) and distance along the transect for each wv file (wv_dist_array)\n",
    "cs_number = gpr_fp[-5:-1]\n",
    "file_path = os.getcwd() + '/Transect_positions/'\n",
    "file_name = cs_number + '_coords_*files.xlsx'\n",
    "file_name = fnmatch.filter(os.listdir(file_path), file_name)[0]\n",
    "geo_data_df = pd.read_excel(file_path + file_name).iloc[:, :]\n",
    "total_cs_dist = 0\n",
    "wv_dist_array = [0]\n",
    "for i in range(len(geo_data_df[:]['UTM_EASTING']) - cut_no - 1):\n",
    "    total_cs_dist += math.sqrt((geo_data_df.iloc[i+cut_no+1]['UTM_EASTING'] - \n",
    "                                geo_data_df.iloc[i+cut_no]['UTM_EASTING'])**2 + \n",
    "                               (geo_data_df.iloc[i+cut_no+1]['UTM_NORTHING'] - \n",
    "                                geo_data_df.iloc[i+cut_no]['UTM_NORTHING'])**2)\n",
    "    wv_dist_array.append(total_cs_dist)\n",
    "\n",
    "# remove nan values in cases where gps data is missing (cs 18--check this, maybe we make an assumption?)\n",
    "wv_dist_array = [max(wv_dist_array) if math.isnan(x) else x for x in wv_dist_array]\n",
    "total_cs_dist = max(wv_dist_array) # this is always the case\n",
    "# print(np.round(wv_dist_array, 0))\n"
   ]
  },
  {
   "cell_type": "markdown",
   "id": "f093f49d",
   "metadata": {},
   "source": [
    "Plot the waveforms individually"
   ]
  },
  {
   "cell_type": "code",
   "execution_count": 7,
   "id": "4cf99e31",
   "metadata": {
    "scrolled": true
   },
   "outputs": [
    {
     "data": {
      "image/png": "[encoded data removed]",
      "text/plain": [
       "<Figure size 432x288 with 1 Axes>"
      ]
     },
     "metadata": {
      "needs_background": "light"
     },
     "output_type": "display_data"
    },
    {
     "data": {
      "image/png": "[encoded data removed]",
      "text/plain": [
       "<Figure size 432x288 with 1 Axes>"
      ]
     },
     "metadata": {
      "needs_background": "light"
     },
     "output_type": "display_data"
    },
    {
     "data": {
      "image/png": "[encoded data removed]",
      "text/plain": [
       "<Figure size 432x288 with 1 Axes>"
      ]
     },
     "metadata": {
      "needs_background": "light"
     },
     "output_type": "display_data"
    },
    {
     "data": {
      "image/png": "[encoded data removed]",
      "text/plain": [
       "<Figure size 432x288 with 1 Axes>"
      ]
     },
     "metadata": {
      "needs_background": "light"
     },
     "output_type": "display_data"
    },
    {
     "data": {
      "image/png": "[encoded data removed]",
      "text/plain": [
       "<Figure size 432x288 with 1 Axes>"
      ]
     },
     "metadata": {
      "needs_background": "light"
     },
     "output_type": "display_data"
    },
    {
     "data": {
      "image/png": "[encoded data removed]",
      "text/plain": [
       "<Figure size 432x288 with 1 Axes>"
      ]
     },
     "metadata": {
      "needs_background": "light"
     },
     "output_type": "display_data"
    }
   ],
   "source": [
    "wv, lat, lon, elev, dt = read_point(gpr_fp + gpr_fns[1])\n",
    "num_samples = wv.shape[0] # number of data points collected during the trace\n",
    "\n",
    "# list of all wv files\n",
    "wv_list = []\n",
    "wv_filt_list = []\n",
    "for i in range(len(gpr_fns)):\n",
    "    wv, lat, lon, elev, dt = read_point(gpr_fp + gpr_fns[i])\n",
    "    wv_list.append(wv)\n",
    "    b_low, a_low = butter(4,.5,'lowpass') # low pass filter\n",
    "    b,a = butter(4,.02,'high') # original filter used by Martin\n",
    "    wv_low_filt = filtfilt(b_low, a_low, wv, axis=0)\n",
    "    wv_filt_list.append(filtfilt(b, a, wv_low_filt, axis=0)) # axis=0 to filter each wv##.txt\n",
    "\n",
    "# plot desired file\n",
    "%matplotlib inline\n",
    "for i in range(min(len(gpr_fns), 10)):\n",
    "    wv, lat, lon, elev, dt = read_point(gpr_fp + gpr_fns[i])\n",
    "    plt.figure(i)\n",
    "    plt.plot(np.arange(num_samples), wv)\n",
    "    plt.xlim(0, 400)\n",
    "    plt.grid()   \n"
   ]
  },
  {
   "cell_type": "markdown",
   "id": "583bae5f",
   "metadata": {},
   "source": [
    "Stack the beginning and end waveforms that are from the same location. Only represent the average of the waveforms at that location"
   ]
  },
  {
   "cell_type": "code",
   "execution_count": 8,
   "id": "db251e83",
   "metadata": {},
   "outputs": [
    {
     "name": "stdout",
     "output_type": "stream",
     "text": [
      "New GPR waveforms:\n",
      "       ['wv5.txt', 'wv6.txt']\n"
     ]
    }
   ],
   "source": [
    "# *** COMBINING THE BEGINNING AND END WAVEFORMS (THAT ARE FROM THE SAME LOCATION) AND USING THEIR MEAN\n",
    "# Remove duplicate waveforms from the same location when the system was not moving on the ice\n",
    "comb_thresh = 1 # threshold for combining waveforms. e.g. 1 means all waveforms within 1m will be combined\n",
    "comb_begin = [i for i in range(len(wv_dist_array)) if wv_dist_array[i] < comb_thresh]  # find the begining wv to be combined\n",
    "comb_end = [i for i in range(len(wv_dist_array)) if wv_dist_array[i] > total_cs_dist - comb_thresh] # find the end \"    \"\n",
    "if total_cs_dist <= 1:  # if we basically have a point, not cs, adjust so comb_end isn't the same as comb_begin\n",
    "    comb_end = [len(wv_dist_array)]\n",
    "\n",
    "mean_begin = np.mean(wv_list[:len(comb_begin)], axis=0) # take the mean of the begining wv\n",
    "mean_filt_begin = np.mean(wv_filt_list[:len(comb_begin)], axis=0)\n",
    "mean_end = np.mean(wv_list[-len(comb_end):], axis=0) # take the mean of the end wv\n",
    "mean_filt_end = np.mean(wv_filt_list[-len(comb_end):], axis=0)\n",
    "mid_wv = wv_list[len(comb_begin):-len(comb_end)] # keep the middle wv\n",
    "mid_filt_wv = wv_filt_list[len(comb_begin):-len(comb_end)]\n",
    "\n",
    "# Now, create wv_list such that it only encorporates the part we want\n",
    "wv_list = [mean_begin]\n",
    "wv_filt_list = [mean_filt_begin]\n",
    "for i in range(len(mid_wv)):\n",
    "    wv_list.append(mid_wv[i])\n",
    "    wv_filt_list.append(mid_filt_wv[i])\n",
    "wv_list.append(mean_end)\n",
    "wv_filt_list.append(mean_filt_end)\n",
    "\n",
    "# Fix some of our arrays to reflect the data we're actually encorporating\n",
    "wv_dist_array = wv_dist_array[comb_begin[-1]:comb_end[0]+1] # update wv_dist_array \n",
    "gpr_fns = gpr_fns[comb_begin[-1]:comb_end[0]+1] # update gpr_fns \n",
    "# NOTE: the first and last wv are now the mean of all those wv that were before/after \n",
    "print('New GPR waveforms:\\n      ', gpr_fns)"
   ]
  },
  {
   "cell_type": "markdown",
   "id": "88995b43",
   "metadata": {},
   "source": [
    "We need to get the variables again, but only for the GPR files we are actually using. This is necessary since we removed and/or stacked some files"
   ]
  },
  {
   "cell_type": "code",
   "execution_count": 12,
   "id": "e4a34f36",
   "metadata": {},
   "outputs": [],
   "source": [
    "points = len(gpr_fns)\n",
    "wv = np.empty((points,num_samples))\n",
    "lat = np.empty((points,))\n",
    "lon = np.empty((points,))\n",
    "elev = np.empty((points,))\n",
    "for n, gpr_fn in enumerate(gpr_fns):\n",
    "    wv[n,:], lat[n], lon[n], elev[n], dt = read_point(gpr_fp + gpr_fn)\n"
   ]
  },
  {
   "cell_type": "markdown",
   "id": "0c796266",
   "metadata": {},
   "source": [
    "## GPR Processing steps\n",
    "\n",
    "Now, we begin to process the GPR data:\n",
    "- Identify time_zero as airwave onset and clip to [time_zero](chrome-extension://efaidnbmnnnibpcajpcglclefindmkaj/http://archive.sciendo.com/IPC/ipc.2013.18.issue-2-3/v10248-012-0082-3/v10248-012-0082-3.pdf)\n",
    "- Remove DC component of waveform (subtraction of the waveform mean)\n",
    "- Take transpose of waveform (for plotting of the waveform on a radargram)\n",
    "- Crop waveform (size reduction)\n",
    "- Filter waveform signals with a low-pass filter to remove high frequency noise\n",
    "- Rubberbanding (conversion from waveform number to distace along transect)"
   ]
  },
  {
   "cell_type": "code",
   "execution_count": 10,
   "id": "f2749fe0",
   "metadata": {},
   "outputs": [
    {
     "name": "stdout",
     "output_type": "stream",
     "text": [
      "[4.9e-07 4.9e-07]\n"
     ]
    }
   ],
   "source": [
    "# *** DETERMINE THE STARTING / CUTOFF TIME TO FILTER PRE-TRIGGER\n",
    "airwave_time = (antenna_sepn + (2*antenna_height))/3e8 # time for the airwave to travel\n",
    "\n",
    "def time_zero_selection(method, wv_list, wv_filt_list):\n",
    "    # Method 1: apparently signal starting time is the airwave negative peak (see below)\n",
    "    # Method 2: take the signal starting time to be the onset of the airwave\n",
    "    # Method 3: signal starting time as onset of the airwave from filtered data\n",
    "    if method == 1:\n",
    "        # index at minimum value\n",
    "        t0_val_indices = [np.where(wv_list[i] == wv_list[i].min())[0][0] for i in range(len(wv_list))]\n",
    "    elif method == 2:\n",
    "        # index at zero value for each zero value\n",
    "        t0_val_indices = [np.where(wv_list[i] < -0.025)[0][0]-1 for i in range(len(wv_list))]\n",
    "    elif method == 3:\n",
    "        # index at zero value for each zero value (using filtered wv)\n",
    "        m = 20 # ignore the first few values when finding the zero-point of filtered data\n",
    "        t0_val_indices = [np.where(wv_filt_list[i][m:] <= 0)[0][0]+m-1 for i in range(len(wv_filt_list))]\n",
    "    t0_val_times = [x * dt for x in t0_val_indices] # convert index to time\n",
    "    return t0_val_times\n",
    "\n",
    "cutoff_times = np.round(time_zero_selection(3, wv_list, wv_filt_list), 9) \n",
    "print(cutoff_times)\n"
   ]
  },
  {
   "cell_type": "code",
   "execution_count": 13,
   "id": "6e2cd2f5",
   "metadata": {},
   "outputs": [],
   "source": [
    "# *** REMOVE PRE-TRIGGER BACKGROUND NOISE ***\n",
    "all_time = np.arange(0, dt * num_samples, dt)\n",
    "\n",
    "def posttrigger(total_times, cutoff_times):\n",
    "    post_trigger_times = [np.where(all_time >= cutoff_times[i])[0] for i in range(len(cutoff_times))]\n",
    "    all_time_list = [all_time[post_trigger_times[i]] for i in range(len(post_trigger_times))]\n",
    "    # extract desired columns from each waveform only (columns represent times)\n",
    "    wv_posttrigger_1 = [wv[i][post_trigger_times[i][0]:] for i in range(len(wv))]  # post trigger data for each wv\n",
    "    wv_posttrigger_min = min([len(wv_posttrigger_1[i]) for i in range(len(wv_posttrigger_1))])  # find shortest wv\n",
    "    wv_posttrigger = [wv_posttrigger_1[i][:wv_posttrigger_min] for i in range(len(wv_posttrigger_1))]\n",
    "    wv_posttrigger = np.vstack(wv_posttrigger)\n",
    "    return wv_posttrigger\n",
    "\n",
    "wv_posttrigger = posttrigger(all_time, cutoff_times)\n",
    "\n",
    "# # REMOVING PRE-TRIGGER WITH PERCENTAGE METHOD:\n",
    "# pre_trigger_perc = 0.00\n",
    "# pre_trigger_idx = int(pre_trigger_perc * num_samples)\n",
    "\n",
    "# all_time = np.arange(0, dt * num_samples, dt)\n",
    "# post_trigger_times = np.where(all_time >= (dt * (pre_trigger_perc * num_samples)))[0]\n",
    "# all_time = time[post_trigger_times]\n",
    "# wv_posttrigger = wv[:, post_trigger_times] # extract desired columns only (columns represent times)\n",
    "# print(wv_posttrigger)\n",
    "# print('\\nPre-trigger times removed: ' + str(pre_trigger_perc*100) + '%') # THIS IS JUST A LOG THAT THEY WERE USING\n",
    "# # data = data(post_trigger_times, :)"
   ]
  },
  {
   "cell_type": "code",
   "execution_count": 14,
   "id": "023b3701",
   "metadata": {},
   "outputs": [],
   "source": [
    "# Transpose data so x-axis is the number of traces and y-axis is time\n",
    "#wv = wv.T\n",
    "def transpose_dcRemoval(wv_input):\n",
    "    wv_output = wv_input.T\n",
    "    wv_input_mean = np.mean(wv_input,axis=0)\n",
    "    wv_output = wv_output - wv_input_mean[:,np.newaxis]\n",
    "    return wv_output\n",
    "\n",
    "wv_trans = transpose_dcRemoval(wv_posttrigger)"
   ]
  },
  {
   "cell_type": "code",
   "execution_count": null,
   "id": "38f6aff8",
   "metadata": {},
   "outputs": [],
   "source": [
    "# Crop and filter waveforms to remove high frequency noise\n",
    "max_size = 400\n",
    "wv_crop = wv_trans[0:max_size,:] # radargram size reduction\n",
    "\n",
    "wv_filt_low = filtfilt(b_low,a_low,wv_crop, axis=0) # axis=0 to filter each wv##.txt\n",
    "wv_filt = filtfilt(b,a,wv_filt_low, axis=0) # axis=0 to filter each wv##.txt\n",
    "np.savetxt('saved_file1.txt', wv_trans, delimiter=', ')\n",
    "np.savetxt('saved_file2.txt', wv_filt, delimiter=', ')\n"
   ]
  },
  {
   "cell_type": "markdown",
   "id": "01cf9373",
   "metadata": {},
   "source": [
    "## GPR signal selection\n",
    "\n",
    "Now, we can start to identify and select the GPR signals. Since signals can be difficult to detect, we will do this in a few ways:\n",
    "\n",
    "- From the radargram, make selections with a GUI by clicking along the signal\n",
    "- From each individual waveform, use a GUI to confirm/modify selections for the signal start and end times"
   ]
  },
  {
   "cell_type": "code",
   "execution_count": 15,
   "id": "636c498f",
   "metadata": {},
   "outputs": [
    {
     "name": "stdout",
     "output_type": "stream",
     "text": [
      "*** Click to add points to identify the return signal\n",
      "*** Press a number key, or use the left/right arrow to display radar waveforms on radargram.\n",
      "    Press \"a\" to show all waveforms, \"c to clear\"\n",
      "\n"
     ]
    }
   ],
   "source": [
    "%matplotlib tk\n",
    "fig, ax = plt.subplots(nrows=1, ncols=1)\n",
    "fig.set_size_inches(10, 20)\n",
    "\n",
    "# print and store selected values\n",
    "stored_xvals = []\n",
    "stored_yvals = []\n",
    "stored_xvals_plotonly = [] # for plotting we still want the original points for imshow\n",
    "def onclick(event): # mouse click event\n",
    "    global stored_xvals, stored_yvals, sorted_stored_xvals, sorted_stored_yvals\n",
    "    global stored_xvals_plotonly, stored_stored_xvals_plotonly\n",
    "    ix, iy = event.xdata, event.ydata\n",
    "    dist_ix = np.interp(ix, np.arange(len(wv_filt_resampled[0])), xs[:,0]) # get the distance value of the point\n",
    "    # map the distance to wv file number\n",
    "    wv_ix = np.interp(dist_ix, wv_dist_array, np.arange(len(wv_filt_resampled[0])) + 1 + len(comb_begin))\n",
    "    print(dist_ix, iy)\n",
    "\n",
    "    stored_xvals.append(wv_ix)\n",
    "    stored_yvals.append(iy) \n",
    "    sorted_data = sorted(zip(stored_xvals, stored_yvals), key=lambda x: x[0])\n",
    "    sorted_stored_xvals = [x[0] for x in sorted_data]\n",
    "    sorted_stored_yvals = [x[1] for x in sorted_data]\n",
    "\n",
    "    stored_xvals_plotonly.append(ix)\n",
    "    sorted_data_plotonly = sorted(zip(stored_xvals_plotonly, stored_yvals), key=lambda x: x[0])\n",
    "    sorted_stored_xvals_plotonly = [x[0] for x in sorted_data_plotonly]\n",
    "    plt.plot(sorted_stored_xvals_plotonly, sorted_stored_yvals, color='r', zorder=200) \n",
    "    plt.plot(ix, iy, color='r', marker='.', markersize=8, zorder=200)\n",
    "    \n",
    "    # *** print waveforms of the selected point\n",
    "    # selection_index = min(range(len(wv_dist_array)), key=lambda i: abs(wv_dist_array[i]-dist_ix))\n",
    "    # plt.plot(np.transpose(wv_filt)[selection_index]*4 + selection_index, np.arange(max_size), color='goldenrod') \n",
    "    plt.show()\n",
    "\n",
    "prev_key = 0\n",
    "c = 5 # this is to make sure each additional plot is on top of the previous\n",
    "def onpress(event): # key press event\n",
    "    global prev_key, c\n",
    "    c += 1\n",
    "    amp = 100\n",
    "    # print waveforms on the radargram at desired locations\n",
    "    if ord(event.key[0]) >= 48 and ord(event.key[0]) <=57: # these are the integer value key inputs\n",
    "        selection = int((ord(event.key)-48)*0.1*len(wv_dist_array))\n",
    "        plt.plot(np.transpose(wv_filt)[selection]*amp + selection, np.arange(max_size), color='goldenrod', zorder=c)\n",
    "        prev_key = int(int(event.key)*0.1*len(wv_dist_array))\n",
    "    elif event.key == 'left': # to move sequentially up/down plotting a waveform\n",
    "        plt.plot(np.transpose(wv_filt)[prev_key-1]*amp + prev_key - 1, np.arange(max_size), color='goldenrod', zorder=c)\n",
    "        prev_key -= 1\n",
    "    elif event.key == 'right':\n",
    "        plt.plot(np.transpose(wv_filt)[prev_key+1]*amp + prev_key + 1, np.arange(max_size), color='goldenrod', zorder=c)\n",
    "        prev_key += 1\n",
    "    elif event.key == 'a': # to show all waveforms\n",
    "        for i in range(int(len(wv_dist_array))):\n",
    "            plt.plot(np.transpose(wv_filt)[i]*amp + i, np.arange(max_size), color='goldenrod', zorder=c)\n",
    "    elif event.key == 'c': # clear the waveform plots (replot base on top)\n",
    "        plt.imshow(wv_filt_resampled, cmap='bone',vmin = -0.01, vmax = 0.01, aspect='auto', zorder=c)       \n",
    "    plt.show()\n",
    "    \n",
    "cid = fig.canvas.mpl_connect('button_press_event', onclick) # initiate the butten click event\n",
    "pid = fig.canvas.mpl_connect('key_press_event', onpress) # initiate the key press event\n",
    "\n",
    "# # RUBBER BANDING: create a meshgrid using wv file spacing\n",
    "xs,ys = np.mgrid[0:total_cs_dist:complex(0, wv_filt.shape[1]), 0:wv_filt.shape[0]:1]\n",
    "wv_filt_resampled = griddata(list(itertools.product(wv_dist_array, np.arange(0,max_size))), \n",
    "                             wv_filt.flatten('F'), (xs, ys), method='nearest').T\n",
    "\n",
    "# # *** ALTERNATE WAY TO DO RUBBER-BANDING\n",
    "# indices = [(np.abs(wv_dist_array-x)).argmin() for x in [x[0] for x in xs]]\n",
    "# wv_filt_resampled2 = np.array([wv_filt.T[i] for i in indices]).T\n",
    "# plt.imshow(wv_filt_resampled2, cmap='bone',vmin = -0.01, vmax = 0.01, aspect='auto')\n",
    "# # *** ^ ^ ^ ^ ^ ^ ^ ^ ^ ^ ^ ^ ^ ^ ^ ^ ^\n",
    "\n",
    "# plt.imshow(wv_filt, cmap='bone',vmin = -0.01, vmax = 0.01, aspect='auto') # original result\n",
    "plt.imshow(wv_filt_resampled, cmap='bone',vmin = -0.01, vmax = 0.01, aspect='auto') # rubbber-banded result\n",
    "\n",
    "plt.xticks(ticks=np.linspace(0, wv_filt.shape[1]-0.5, 5), \n",
    "       labels=np.linspace(0, total_cs_dist, 5, dtype=int), fontsize=18)\n",
    "plt.xlabel('Distance along Transect (m)', fontsize=24)\n",
    "plt.yticks(fontsize=24)\n",
    "plt.ylabel('Time (1e-8 s) ~or~ (10 ns)', fontsize=24)\n",
    "plt.title(gpr_fp[-5:-1] + '_plot', fontsize=36, c='r')\n",
    "plt.grid()\n",
    "plt.xlim(left=0)\n",
    "plt.show()\n",
    "\n",
    "print('*** Click to add points to identify the return signal')\n",
    "print('*** Press a number key, or use the left/right arrow to display radar waveforms on radargram.\\n' + \n",
    "      '    Press \"a\" to show all waveforms, \"c to clear\"\\n')\n"
   ]
  },
  {
   "cell_type": "markdown",
   "id": "9c5b3a9a",
   "metadata": {},
   "source": [
    "Let's quickly save our radargram selections for our records visually as a png image.\n",
    "\n",
    "Let's also estimate the signal travel times and bed depth based on our selections"
   ]
  },
  {
   "cell_type": "code",
   "execution_count": 142,
   "id": "cc181e33",
   "metadata": {},
   "outputs": [],
   "source": [
    "# *** Save radargram in appropriate folder\n",
    "if len(stored_xvals) > 2:  # only save the file if we actually made some selections\n",
    "    # plt_title_radar = 'plots/transect_plots/' + gpr_fp[-5:-1] + '_plot.png'\n",
    "    plt_title_radar = 'plots/transect_plots_rubberband/' + gpr_fp[-5:-1] + '_rb_plot.png'\n",
    "    fig.savefig(plt_title_radar, facecolor='w')"
   ]
  },
  {
   "cell_type": "code",
   "execution_count": 143,
   "id": "c2421bf7",
   "metadata": {},
   "outputs": [
    {
     "name": "stdout",
     "output_type": "stream",
     "text": [
      "wv_num \t interpolated y-axis \t interp. y-axis with t-zero\t distance along cs (m) \t est. interp. depth(m)\n",
      "5 \t\t 258.4713 \t\t 307.4713 \t\t\t 0.4 \t\t 249.4332\n",
      "6 \t\t 255.0399 \t\t 304.0399 \t\t\t 3.7 \t\t 246.7197\n"
     ]
    }
   ],
   "source": [
    "# interpolate the selected values and output results\n",
    "\n",
    "# WE NEED TO FIX THIS INTERPOLATION!!\n",
    "wv_file_numbers = [int(gpr_fns[i][2:-4]) for i in range(len(gpr_fns))] # each file number included in the study\n",
    "interp_bed_depth_index_radargram = np.round(np.interp(wv_file_numbers, sorted_stored_xvals, sorted_stored_yvals), 4)\n",
    "interp_bed_depth_index = np.round(interp_bed_depth_index_radargram + (np.array(cutoff_times)/dt), 4)\n",
    "interp_bed_depth_twtt = np.round((interp_bed_depth_index*dt) + airwave_time, 10) # signal 2-way travel time\n",
    "# interp_bed_depth_depth = np.round((vel_ice*interp_bed_depth_twtt/2), 4) # interpolated depth\n",
    "interp_bed_depth_depth = np.round(np.power((vel_ice*interp_bed_depth_twtt/2)**2 -\n",
    "                                           ((antenna_sepn + (2*antenna_height))/2)**2, 0.5), 4)\n",
    "            # www.ncbi.nlm.nih.gov/pmc/articles/PMC6101056/pdf/jove-135-56847.pdf\n",
    "\n",
    "# print results\n",
    "table_results = \"\\n\".join(\"{} \\t\\t {} \\t\\t {} \\t\\t\\t {} \\t\\t {}\".format(v, w, x, y, z) for v, w, x, y, z in \n",
    "                          zip(wv_file_numbers, interp_bed_depth_index_radargram, interp_bed_depth_index, \n",
    "                              np.round(wv_dist_array, 1), interp_bed_depth_depth))\n",
    "print('wv_num \\t interpolated y-axis \\t interp. y-axis with t-zero' + \n",
    "      '\\t distance along cs (m) \\t est. interp. depth(m)')\n",
    "print(table_results)\n"
   ]
  },
  {
   "cell_type": "markdown",
   "id": "84cee5c5",
   "metadata": {},
   "source": [
    "## Revising GPR signal selections by taking a closer look at the waveforms\n",
    "\n",
    "First, we can assess and modify (if needed) any starting signal locations.\n",
    "\n",
    "Then, we can do the same for the selected end points (the perceived signal location)"
   ]
  },
  {
   "cell_type": "code",
   "execution_count": 144,
   "id": "b7626a4b",
   "metadata": {},
   "outputs": [
    {
     "name": "stdout",
     "output_type": "stream",
     "text": [
      "45.96535244922341 -0.005801908957490998\n",
      "Time from interpreted bed depth: 261.50594755077657\n"
     ]
    }
   ],
   "source": [
    "### Plot radargram selections on waveform graph to qualitatively assess accuracy\n",
    "## TO EDIT THE STARTING POINT SIGNAL\n",
    "%matplotlib tk\n",
    "# wv_file_numbers  # wv number, sorted array\n",
    "# interp_bed_depth_index  # radargram time, sorted array\n",
    "# cutoff_times  # initial pre-trigger time remove from radargram\n",
    "\n",
    "print('MODIFYING THE STARTING POINT SIGNAL TIME')\n",
    "for i in range(len(gpr_fns)):\n",
    "    ix = 0\n",
    "    def onclick(event):\n",
    "        global cutoff_times, ix\n",
    "        plt.axvline(ix, color='w', lw=0.75)\n",
    "        ix, iy = event.xdata, event.ydata\n",
    "        print(ix, iy)\n",
    "        print('Time from interpreted bed depth:', str(interp_bed_depth_index[i] - ix))\n",
    "        cutoff_times[i] = ix*dt\n",
    "        plt.xlim(ix - 20, ix + 20)\n",
    "        plt.axvline(ix, color='b', lw=0.5)\n",
    "        plt.show(block=True)\n",
    "\n",
    "    fig1, ax = plt.subplots(nrows=1, ncols=1) \n",
    "    fig1.set_size_inches(12,8)\n",
    "    plt.plot(np.arange(num_samples), wv_filt_list[i], label='Filtered WV Data')\n",
    "    plt.plot(np.arange(num_samples), wv_list[i], color='orange', alpha=0.5, label='Raw WV Data')\n",
    "    plt.axvline(cutoff_times[i]/dt, color='k', lw=0.5)  # plot cutoff time line\n",
    "    plt.axvline(interp_bed_depth_index[i], color='r', lw=0.5)  # plot radargram line selection\n",
    "    plt.title('Mean waveform for ' + gpr_fp[-5:-1] + ', ' + gpr_fns[i][:-4] + ' (out of ' + gpr_fns[-1][2:-4] + ', ' +\n",
    "              str(round(wv_dist_array[i],1)) + 'm' + '): Radargram Selection \\n TIME-ZERO ADJUSTMENT (BLACK LINE)')\n",
    "    ax.legend(loc='lower right')\n",
    "#     plt.xlim(0, max_size)\n",
    "    plt.xlim((cutoff_times[i]/dt)-20, (cutoff_times[i]/dt)+20)\n",
    "    plt.grid()\n",
    "    cid = fig1.canvas.mpl_connect('button_press_event', onclick)\n",
    "    plt.waitforbuttonpress(0) # this will wait for indefinite time\n",
    "    plt.close(fig1)\n"
   ]
  },
  {
   "cell_type": "code",
   "execution_count": null,
   "id": "61902ace",
   "metadata": {},
   "outputs": [],
   "source": []
  },
  {
   "cell_type": "code",
   "execution_count": 150,
   "id": "a19fa9c4",
   "metadata": {
    "scrolled": true
   },
   "outputs": [],
   "source": [
    "### Plot radargram selections on waveform graph to qualitatively assess accuracy\n",
    "## TO EDIT THE ENDING POINT SIGNAL\n",
    "%matplotlib tk\n",
    "\n",
    "print('MODIFYING THE ENDING POINT SIGNAL TIME')\n",
    "for i in range(len(gpr_fns)):\n",
    "    ix = 0\n",
    "    def onclick(event):\n",
    "        global interp_bed_depth_index, ix\n",
    "        plt.axvline(ix, color='w', lw=0.8, alpha=1)\n",
    "        ix, iy = event.xdata, event.ydata\n",
    "        print(ix, iy)\n",
    "        print('Time from time-zero:', str(ix - (cutoff_times[i]/dt)))\n",
    "        interp_bed_depth_index[i] = ix\n",
    "        plt.xlim(ix - 20, ix + 20)\n",
    "        plt.ylim(iy - 0.05, iy + 0.05)\n",
    "        plt.axvline(ix, color='b', lw=0.5)\n",
    "        if ix < cutoff_times[i]/dt:\n",
    "            interp_bed_depth_index[i] = None\n",
    "        plt.waitforbuttonpress(0)\n",
    "        plt.show(block=True)\n",
    "\n",
    "    fig2, ax = plt.subplots(nrows=1, ncols=1) \n",
    "    fig2.set_size_inches(12,8)\n",
    "    plt.plot(np.arange(num_samples), wv_filt_list[i], color='blue', alpha=0.7, label='Filtered WV Data')\n",
    "    plt.plot(np.arange(num_samples), wv_list[i], color='orange', alpha=0.5, label='Raw WV Data')\n",
    "    plt.axvline(cutoff_times[i]/dt, color='k', lw=0.5)  # plot cutoff time line\n",
    "    plt.axvline(interp_bed_depth_index[i], color='r', lw=0.5)  # plot radargram line selection\n",
    "    plt.title('Mean waveform for ' + gpr_fp[-5:-1] + ', ' + gpr_fns[i][:-4] + ' (out of ' + gpr_fns[-1][2:-4] + ', ' +\n",
    "              str(round(wv_dist_array[i],1)) + 'm' + '): Radargram Selection \\n REFLECTION POINT ADJUSTMENT (RED LINE)')\n",
    "    ax.legend(loc='lower right')\n",
    "    plt.xlim(0, max_size)\n",
    "    plt.grid()\n",
    "    cid = fig2.canvas.mpl_connect('button_press_event', onclick)\n",
    "    plt.waitforbuttonpress(0) # this will wait for indefinite time\n",
    "    plt.close(fig2)\n"
   ]
  },
  {
   "cell_type": "markdown",
   "id": "4cdfa8ea",
   "metadata": {},
   "source": [
    "Now, let's recalculate the signal travel times and bed depths now that we've fine-tuned our signal point selections"
   ]
  },
  {
   "cell_type": "code",
   "execution_count": 146,
   "id": "da050495",
   "metadata": {},
   "outputs": [
    {
     "name": "stdout",
     "output_type": "stream",
     "text": [
      "wv_num \t interpolated y-axis \t\t interpolated twtt (s) \t\t est. interp. depth(m)\n",
      "5 \t 254.0665 \t\t\t 2.6277e-06 \t\t\t 207.1777\n",
      "6 \t 251.9877 \t\t\t 2.6069e-06 \t\t\t 205.5312\n"
     ]
    }
   ],
   "source": [
    "# REVISED bed depth, travel times, etc\n",
    "\n",
    "# interp_bed_depth_index  # this is now edited from above. this is the wv time (including the cutoff time)\n",
    "interp_bed_depth = np.round(np.array(interp_bed_depth_index) - (np.array(cutoff_times)/dt), 4) # remove cutoff time\n",
    "interp_bed_depth_twtt = np.round((np.array(interp_bed_depth)*dt) + airwave_time, 10) # signal 2-way travel time\n",
    "# interp_bed_depth_depth = np.round((vel_ice*interp_bed_depth_twtt/2), 4) # interpolated depth\n",
    "interp_bed_depth_depth = np.round(np.power((vel_ice*interp_bed_depth_twtt/2)**2 -\n",
    "                                           ((antenna_sepn + (2*antenna_height))/2)**2, 0.5), 4)\n",
    "            # www.ncbi.nlm.nih.gov/pmc/articles/PMC6101056/pdf/jove-135-56847.pdf\n",
    "\n",
    "# print results\n",
    "table_results = \"\\n\".join(\"{} \\t {} \\t\\t\\t {} \\t\\t\\t {}\".format(w, x, y, z) for w, x, y, z in \n",
    "                          zip(wv_file_numbers, interp_bed_depth, interp_bed_depth_twtt, interp_bed_depth_depth))\n",
    "print('wv_num \\t interpolated y-axis \\t\\t interpolated twtt (s) \\t\\t est. interp. depth(m)')\n",
    "print(table_results)\n"
   ]
  },
  {
   "cell_type": "markdown",
   "id": "124b876d",
   "metadata": {},
   "source": [
    "Finally, we can also replot the radargram with our final, modified selections. And we save the final output radargram with the associated data in an excel sheet\n",
    "\n",
    "The following GUI also let's us use keys to add waveforms on top of the radargram: \n",
    "- numbers 1-9 show waveforms roughly distributed along the transect\n",
    "- left/right arrows add a waveform to the left/right of the previous waveform\n",
    "- 'a' is to show all waveforms \n",
    "- 'c' is to clear waveforms"
   ]
  },
  {
   "cell_type": "code",
   "execution_count": 147,
   "id": "e136adcb",
   "metadata": {},
   "outputs": [],
   "source": [
    "# *** REPLOT RADARGRAM WITH LINES AT FINAL SELECTIONS\n",
    "%matplotlib tk\n",
    "\n",
    "wv_posttrigger_replot = posttrigger(all_time, cutoff_times)\n",
    "wv_trans_replot = transpose_dcRemoval(wv_posttrigger_replot)\n",
    "wv_crop_replot = wv_trans_replot[0:max_size,:] # radargram size reduction\n",
    "wv_filt_replot = filtfilt(b,a,wv_crop_replot, axis=0) # axis=0 to filter each wv##.txt\n",
    "xs,ys = np.mgrid[0:total_cs_dist:complex(0, wv_filt_replot.shape[1]), 0:wv_filt_replot.shape[0]:1]\n",
    "indices_replot = [(np.abs(wv_dist_array-x)).argmin() for x in [x[0] for x in xs]]\n",
    "wv_filt_resampled2 = np.array([wv_filt_replot.T[i] for i in indices_replot]).T\n",
    "\n",
    "fig3, ax = plt.subplots(nrows=1, ncols=1)\n",
    "fig3.set_size_inches(10, 20)\n",
    "plt.imshow(wv_filt_resampled2, cmap='bone',vmin = -0.01, vmax = 0.01, aspect='auto', \n",
    "           extent=[0, wv_dist_array[-1], max_size, 0]) # rubbber-banded\n",
    "plt.plot(wv_dist_array, interp_bed_depth, color='r', marker='o', markersize=5, alpha = 0.75, zorder=200)\n",
    "# plt.xticks(ticks=np.linspace(0, wv_filt.shape[1]-0.5, 5), labels=np.linspace(0, total_cs_dist, 5, dtype=int), \n",
    "#            fontsize=18)\n",
    "\n",
    "# add key press event to show more waveforms\n",
    "prev_key = 0\n",
    "c = 5 # this is to make sure each additional plot is on top of the previous\n",
    "def onpress(event): # key press event\n",
    "    global prev_key, c\n",
    "    c += 1\n",
    "    amp = 1000\n",
    "    # print waveforms on the radargram at desired locations\n",
    "    if ord(event.key[0]) >= 48 and ord(event.key[0]) <=57: # these are the integer value key inputs\n",
    "        selection = int((ord(event.key)-48)*0.1*len(wv_dist_array))\n",
    "        plt.plot(np.transpose(wv_filt_replot)[selection]*amp + wv_dist_array[selection], np.arange(max_size), \n",
    "                 color='goldenrod', zorder=c, alpha=0.9)\n",
    "        prev_key = int(int(event.key)*0.1*len(wv_dist_array))\n",
    "    elif event.key == 'left': # to move sequentially up/down plotting a waveform\n",
    "        plt.plot(np.transpose(wv_filt_replot)[prev_key-1]*amp + wv_dist_array[prev_key-1], np.arange(max_size), \n",
    "                 color='goldenrod', zorder=c, alpha=0.9)\n",
    "        prev_key -= 1\n",
    "    elif event.key == 'right':\n",
    "        plt.plot(np.transpose(wv_filt_replot)[prev_key+1]*amp + wv_dist_array[prev_key+1], np.arange(max_size), \n",
    "                 color='goldenrod', zorder=c, alpha=0.9)\n",
    "        prev_key += 1\n",
    "    elif event.key == 'a': # to show all waveforms\n",
    "        for i in range(int(len(wv_dist_array))):\n",
    "            plt.plot(np.transpose(wv_filt_replot)[i]*amp + wv_dist_array[i], np.arange(max_size), \n",
    "                     color='goldenrod', zorder=c, alpha=0.9)\n",
    "    elif event.key == 'c': # clear the waveform plots (replot base on top)\n",
    "        plt.imshow(wv_filt_resampled2, cmap='bone',vmin = -0.01, vmax = 0.01, aspect='auto', zorder=c,\n",
    "                   extent=[0, wv_dist_array[-1], max_size, 0])\n",
    "    plt.show()\n",
    "\n",
    "pid = fig3.canvas.mpl_connect('key_press_event', onpress) # initiate the key press event\n",
    "\n",
    "# add plots of waveforms to the output\n",
    "# for i in range(int(len(wv_dist_array)/4)):\n",
    "#     plt.plot(np.transpose(wv_filt_replot)[(i+1)*4]*100 + wv_dist_array[(i+1)*4], np.arange(max_size), \n",
    "#              color='goldenrod')\n",
    "\n",
    "plt.xlabel('Distance along Transect (m)', fontsize=24)\n",
    "plt.yticks(fontsize=24)\n",
    "plt.ylabel('Time (1e-8 s) ~or~ (10 ns)', fontsize=24)\n",
    "plt.title(gpr_fp[-5:-1] + '_plot', fontsize=36, c='r')\n",
    "plt.xlim(left=0)\n",
    "plt.grid()\n",
    "\n",
    "# *** Save updated radargram in appropriate folder\n",
    "plt_title_radar_new = 'plots/transect_plots_rubberband/' + gpr_fp[-5:-1] + '_rb_plot_updated.png'\n",
    "fig3.savefig(plt_title_radar_new, facecolor='w')"
   ]
  },
  {
   "cell_type": "code",
   "execution_count": null,
   "id": "a4fd8d58",
   "metadata": {},
   "outputs": [],
   "source": []
  },
  {
   "cell_type": "markdown",
   "id": "2c521532",
   "metadata": {},
   "source": [
    "Now we save the files. ONLY run these final lines of code of you like the selection; it will override the previous file with the same names, if there are any."
   ]
  },
  {
   "cell_type": "code",
   "execution_count": 148,
   "id": "a237b5a9",
   "metadata": {},
   "outputs": [
    {
     "data": {
      "text/plain": [
       "<function BufferedWriter.close>"
      ]
     },
     "execution_count": 148,
     "metadata": {},
     "output_type": "execute_result"
    }
   ],
   "source": [
    "# *** Save the filtered waveform\n",
    "file = open('gulkana_wv_filt_arrays/' + gpr_fp[-5:-1] + '_wv_filt.txt', \"wb\")\n",
    "np.save(file, wv_filt_replot)\n",
    "# np.save(file, wv_filt_resampled2)\n",
    "file.close"
   ]
  },
  {
   "cell_type": "code",
   "execution_count": 149,
   "id": "417e18f9",
   "metadata": {},
   "outputs": [],
   "source": [
    "# *** Save output files for Gulkana cross-sects with bed depth at locations\n",
    "cs_number = gpr_fp[-5:-1]\n",
    "file_number = total_file_no\n",
    "file_path = os.getcwd() + '/Transect_positions/' + cs_number + '_coords_' + file_number + 'files.xlsx'\n",
    "geo_data_df = pd.read_excel(file_path).iloc[:, 1:6]\n",
    "\n",
    "depth_df = pd.DataFrame({'twtt_without_airwave': interp_bed_depth,\n",
    "                         'bed_depth_m': interp_bed_depth_depth,\n",
    "                         'twtt_s': interp_bed_depth_twtt,\n",
    "                         'wv_number_check': wv_file_numbers})\n",
    "geo_data_df_updated = pd.merge(geo_data_df, depth_df, how='left', \n",
    "                               left_on='wv_number', right_on='wv_number_check')    \n",
    "geo_data_df_updated.to_excel(file_path) # save as excel file, overwrite current file \n",
    "\n"
   ]
  },
  {
   "cell_type": "code",
   "execution_count": null,
   "id": "f34de7dd",
   "metadata": {},
   "outputs": [],
   "source": []
  },
  {
   "cell_type": "code",
   "execution_count": null,
   "id": "8a27966b",
   "metadata": {},
   "outputs": [],
   "source": []
  },
  {
   "cell_type": "code",
   "execution_count": null,
   "id": "4a7da288",
   "metadata": {},
   "outputs": [],
   "source": []
  }
 ],
 "metadata": {
  "kernelspec": {
   "display_name": "ipyMacEnv",
   "language": "python",
   "name": "ipymacenv"
  },
  "language_info": {
   "codemirror_mode": {
    "name": "ipython",
    "version": 3
   },
   "file_extension": ".py",
   "mimetype": "text/x-python",
   "name": "python",
   "nbconvert_exporter": "python",
   "pygments_lexer": "ipython3",
   "version": "3.9.7"
  }
 },
 "nbformat": 4,
 "nbformat_minor": 5
}
